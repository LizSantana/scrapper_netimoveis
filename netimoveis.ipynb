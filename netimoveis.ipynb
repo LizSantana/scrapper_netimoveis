{
  "cells": [
    {
      "cell_type": "code",
      "execution_count": 5,
      "metadata": {
        "id": "G6G65zo40KXi"
      },
      "outputs": [],
      "source": [
        "import pandas as pd\n",
        "import seaborn as sns"
      ]
    },
    {
      "cell_type": "code",
      "execution_count": 6,
      "metadata": {
        "id": "_-BTIL4s0X_7"
      },
      "outputs": [],
      "source": [
        "aluguel = pd.read_csv('aluguel_salvador.csv')"
      ]
    },
    {
      "cell_type": "code",
      "execution_count": 7,
      "metadata": {
        "id": "abOHdU3a0zmV"
      },
      "outputs": [],
      "source": [
        "venda = pd.read_csv('venda_salvador.csv')"
      ]
    },
    {
      "cell_type": "markdown",
      "metadata": {},
      "source": [
        "#### Coisas iniciais"
      ]
    },
    {
      "cell_type": "code",
      "execution_count": 8,
      "metadata": {
        "colab": {
          "base_uri": "https://localhost:8080/",
          "height": 713
        },
        "id": "qEMjGvT2048Y",
        "outputId": "7b9f4514-1973-477e-be26-f85c718390f0"
      },
      "outputs": [
        {
          "data": {
            "text/html": [
              "<div>\n",
              "<style scoped>\n",
              "    .dataframe tbody tr th:only-of-type {\n",
              "        vertical-align: middle;\n",
              "    }\n",
              "\n",
              "    .dataframe tbody tr th {\n",
              "        vertical-align: top;\n",
              "    }\n",
              "\n",
              "    .dataframe thead th {\n",
              "        text-align: right;\n",
              "    }\n",
              "</style>\n",
              "<table border=\"1\" class=\"dataframe\">\n",
              "  <thead>\n",
              "    <tr style=\"text-align: right;\">\n",
              "      <th></th>\n",
              "      <th>Unnamed: 0</th>\n",
              "      <th>modo</th>\n",
              "      <th>tipo</th>\n",
              "      <th>bairro</th>\n",
              "      <th>rua</th>\n",
              "      <th>numero</th>\n",
              "      <th>metros_quadrados</th>\n",
              "      <th>quartos</th>\n",
              "      <th>vagas</th>\n",
              "      <th>banheiros</th>\n",
              "      <th>valor</th>\n",
              "    </tr>\n",
              "  </thead>\n",
              "  <tbody>\n",
              "    <tr>\n",
              "      <th>0</th>\n",
              "      <td>0</td>\n",
              "      <td>aluguel</td>\n",
              "      <td>Loja</td>\n",
              "      <td>Liberdade</td>\n",
              "      <td>Rua Belo Oriente</td>\n",
              "      <td>NaN</td>\n",
              "      <td>50.00</td>\n",
              "      <td>0</td>\n",
              "      <td>0</td>\n",
              "      <td>2</td>\n",
              "      <td>1200</td>\n",
              "    </tr>\n",
              "    <tr>\n",
              "      <th>1</th>\n",
              "      <td>1</td>\n",
              "      <td>aluguel</td>\n",
              "      <td>Loja</td>\n",
              "      <td>Sete de Abril</td>\n",
              "      <td>Caminho 1ª Travessa 13 de Maio</td>\n",
              "      <td>4348.0</td>\n",
              "      <td>35.00</td>\n",
              "      <td>0</td>\n",
              "      <td>1</td>\n",
              "      <td>1</td>\n",
              "      <td>1200</td>\n",
              "    </tr>\n",
              "    <tr>\n",
              "      <th>2</th>\n",
              "      <td>2</td>\n",
              "      <td>aluguel</td>\n",
              "      <td>Loja</td>\n",
              "      <td>Rio Vermelho</td>\n",
              "      <td>Rua Oswaldo Cruz</td>\n",
              "      <td>362.0</td>\n",
              "      <td>20.00</td>\n",
              "      <td>0</td>\n",
              "      <td>0</td>\n",
              "      <td>0</td>\n",
              "      <td>1200</td>\n",
              "    </tr>\n",
              "    <tr>\n",
              "      <th>3</th>\n",
              "      <td>3</td>\n",
              "      <td>aluguel</td>\n",
              "      <td>Loja</td>\n",
              "      <td>Caminho de Areia</td>\n",
              "      <td>Rua Caminho de Areia</td>\n",
              "      <td>51.0</td>\n",
              "      <td>30.00</td>\n",
              "      <td>0</td>\n",
              "      <td>0</td>\n",
              "      <td>1</td>\n",
              "      <td>1200</td>\n",
              "    </tr>\n",
              "    <tr>\n",
              "      <th>4</th>\n",
              "      <td>4</td>\n",
              "      <td>aluguel</td>\n",
              "      <td>Sala</td>\n",
              "      <td>Paralela</td>\n",
              "      <td>Avenida Luís Viana</td>\n",
              "      <td>13145.0</td>\n",
              "      <td>34.62</td>\n",
              "      <td>0</td>\n",
              "      <td>1</td>\n",
              "      <td>1</td>\n",
              "      <td>1200</td>\n",
              "    </tr>\n",
              "    <tr>\n",
              "      <th>...</th>\n",
              "      <td>...</td>\n",
              "      <td>...</td>\n",
              "      <td>...</td>\n",
              "      <td>...</td>\n",
              "      <td>...</td>\n",
              "      <td>...</td>\n",
              "      <td>...</td>\n",
              "      <td>...</td>\n",
              "      <td>...</td>\n",
              "      <td>...</td>\n",
              "      <td>...</td>\n",
              "    </tr>\n",
              "    <tr>\n",
              "      <th>429</th>\n",
              "      <td>429</td>\n",
              "      <td>aluguel</td>\n",
              "      <td>Apartamento</td>\n",
              "      <td>Ribeira</td>\n",
              "      <td>Beco Bucuitiba</td>\n",
              "      <td>22.0</td>\n",
              "      <td>40.00</td>\n",
              "      <td>1</td>\n",
              "      <td>0</td>\n",
              "      <td>0</td>\n",
              "      <td>700</td>\n",
              "    </tr>\n",
              "    <tr>\n",
              "      <th>430</th>\n",
              "      <td>430</td>\n",
              "      <td>aluguel</td>\n",
              "      <td>Galpão</td>\n",
              "      <td>Ceasa</td>\n",
              "      <td>NaN</td>\n",
              "      <td>NaN</td>\n",
              "      <td>543.00</td>\n",
              "      <td>0</td>\n",
              "      <td>0</td>\n",
              "      <td>2</td>\n",
              "      <td>6500</td>\n",
              "    </tr>\n",
              "    <tr>\n",
              "      <th>431</th>\n",
              "      <td>431</td>\n",
              "      <td>aluguel</td>\n",
              "      <td>Apartamento</td>\n",
              "      <td>Pituba</td>\n",
              "      <td>NaN</td>\n",
              "      <td>NaN</td>\n",
              "      <td>50.00</td>\n",
              "      <td>1</td>\n",
              "      <td>1</td>\n",
              "      <td>2</td>\n",
              "      <td>1150</td>\n",
              "    </tr>\n",
              "    <tr>\n",
              "      <th>432</th>\n",
              "      <td>432</td>\n",
              "      <td>aluguel</td>\n",
              "      <td>Sala</td>\n",
              "      <td>Pituba</td>\n",
              "      <td>NaN</td>\n",
              "      <td>NaN</td>\n",
              "      <td>9.00</td>\n",
              "      <td>0</td>\n",
              "      <td>0</td>\n",
              "      <td>0</td>\n",
              "      <td>1000</td>\n",
              "    </tr>\n",
              "    <tr>\n",
              "      <th>433</th>\n",
              "      <td>433</td>\n",
              "      <td>aluguel</td>\n",
              "      <td>Sala</td>\n",
              "      <td>Pituba</td>\n",
              "      <td>NaN</td>\n",
              "      <td>NaN</td>\n",
              "      <td>9.00</td>\n",
              "      <td>0</td>\n",
              "      <td>0</td>\n",
              "      <td>0</td>\n",
              "      <td>1000</td>\n",
              "    </tr>\n",
              "  </tbody>\n",
              "</table>\n",
              "<p>434 rows × 11 columns</p>\n",
              "</div>"
            ],
            "text/plain": [
              "     Unnamed: 0     modo         tipo            bairro  \\\n",
              "0             0  aluguel         Loja         Liberdade   \n",
              "1             1  aluguel         Loja     Sete de Abril   \n",
              "2             2  aluguel         Loja      Rio Vermelho   \n",
              "3             3  aluguel         Loja  Caminho de Areia   \n",
              "4             4  aluguel         Sala          Paralela   \n",
              "..          ...      ...          ...               ...   \n",
              "429         429  aluguel  Apartamento           Ribeira   \n",
              "430         430  aluguel       Galpão             Ceasa   \n",
              "431         431  aluguel  Apartamento            Pituba   \n",
              "432         432  aluguel         Sala            Pituba   \n",
              "433         433  aluguel         Sala            Pituba   \n",
              "\n",
              "                                 rua   numero  metros_quadrados  quartos  \\\n",
              "0                   Rua Belo Oriente      NaN             50.00        0   \n",
              "1     Caminho 1ª Travessa 13 de Maio   4348.0             35.00        0   \n",
              "2                   Rua Oswaldo Cruz    362.0             20.00        0   \n",
              "3               Rua Caminho de Areia     51.0             30.00        0   \n",
              "4                 Avenida Luís Viana  13145.0             34.62        0   \n",
              "..                               ...      ...               ...      ...   \n",
              "429                   Beco Bucuitiba     22.0             40.00        1   \n",
              "430                              NaN      NaN            543.00        0   \n",
              "431                              NaN      NaN             50.00        1   \n",
              "432                              NaN      NaN              9.00        0   \n",
              "433                              NaN      NaN              9.00        0   \n",
              "\n",
              "     vagas  banheiros  valor  \n",
              "0        0          2   1200  \n",
              "1        1          1   1200  \n",
              "2        0          0   1200  \n",
              "3        0          1   1200  \n",
              "4        1          1   1200  \n",
              "..     ...        ...    ...  \n",
              "429      0          0    700  \n",
              "430      0          2   6500  \n",
              "431      1          2   1150  \n",
              "432      0          0   1000  \n",
              "433      0          0   1000  \n",
              "\n",
              "[434 rows x 11 columns]"
            ]
          },
          "execution_count": 8,
          "metadata": {},
          "output_type": "execute_result"
        }
      ],
      "source": [
        "aluguel"
      ]
    },
    {
      "cell_type": "code",
      "execution_count": 9,
      "metadata": {
        "colab": {
          "base_uri": "https://localhost:8080/",
          "height": 713
        },
        "id": "85eOh2do7_Uy",
        "outputId": "994b3da1-8277-4cce-e81d-360b5398ab01"
      },
      "outputs": [
        {
          "data": {
            "text/html": [
              "<div>\n",
              "<style scoped>\n",
              "    .dataframe tbody tr th:only-of-type {\n",
              "        vertical-align: middle;\n",
              "    }\n",
              "\n",
              "    .dataframe tbody tr th {\n",
              "        vertical-align: top;\n",
              "    }\n",
              "\n",
              "    .dataframe thead th {\n",
              "        text-align: right;\n",
              "    }\n",
              "</style>\n",
              "<table border=\"1\" class=\"dataframe\">\n",
              "  <thead>\n",
              "    <tr style=\"text-align: right;\">\n",
              "      <th></th>\n",
              "      <th>Unnamed: 0</th>\n",
              "      <th>modo</th>\n",
              "      <th>tipo</th>\n",
              "      <th>bairro</th>\n",
              "      <th>rua</th>\n",
              "      <th>numero</th>\n",
              "      <th>metros_quadrados</th>\n",
              "      <th>quartos</th>\n",
              "      <th>vagas</th>\n",
              "      <th>banheiros</th>\n",
              "      <th>valor</th>\n",
              "    </tr>\n",
              "  </thead>\n",
              "  <tbody>\n",
              "    <tr>\n",
              "      <th>0</th>\n",
              "      <td>0</td>\n",
              "      <td>venda</td>\n",
              "      <td>Loja</td>\n",
              "      <td>Ondina</td>\n",
              "      <td>Avenida Adhemar de Barros</td>\n",
              "      <td>NaN</td>\n",
              "      <td>60.00</td>\n",
              "      <td>0</td>\n",
              "      <td>0</td>\n",
              "      <td>0</td>\n",
              "      <td>420000</td>\n",
              "    </tr>\n",
              "    <tr>\n",
              "      <th>1</th>\n",
              "      <td>1</td>\n",
              "      <td>venda</td>\n",
              "      <td>Apartamento</td>\n",
              "      <td>Jardim Apipema</td>\n",
              "      <td>Rua Nita Costa</td>\n",
              "      <td>NaN</td>\n",
              "      <td>110.00</td>\n",
              "      <td>3</td>\n",
              "      <td>1</td>\n",
              "      <td>3</td>\n",
              "      <td>650000</td>\n",
              "    </tr>\n",
              "    <tr>\n",
              "      <th>2</th>\n",
              "      <td>2</td>\n",
              "      <td>venda</td>\n",
              "      <td>Sala</td>\n",
              "      <td>Centro</td>\n",
              "      <td>Travessa da Ajuda</td>\n",
              "      <td>2.0</td>\n",
              "      <td>31.80</td>\n",
              "      <td>0</td>\n",
              "      <td>0</td>\n",
              "      <td>0</td>\n",
              "      <td>98000</td>\n",
              "    </tr>\n",
              "    <tr>\n",
              "      <th>3</th>\n",
              "      <td>3</td>\n",
              "      <td>venda</td>\n",
              "      <td>Apartamento</td>\n",
              "      <td>Liberdade</td>\n",
              "      <td>Estrada da Liberdade</td>\n",
              "      <td>170.0</td>\n",
              "      <td>63.00</td>\n",
              "      <td>2</td>\n",
              "      <td>0</td>\n",
              "      <td>1</td>\n",
              "      <td>125000</td>\n",
              "    </tr>\n",
              "    <tr>\n",
              "      <th>4</th>\n",
              "      <td>4</td>\n",
              "      <td>venda</td>\n",
              "      <td>Sala</td>\n",
              "      <td>Pituba</td>\n",
              "      <td>Rua Rio Grande do Sul</td>\n",
              "      <td>332.0</td>\n",
              "      <td>28.32</td>\n",
              "      <td>0</td>\n",
              "      <td>0</td>\n",
              "      <td>0</td>\n",
              "      <td>140000</td>\n",
              "    </tr>\n",
              "    <tr>\n",
              "      <th>...</th>\n",
              "      <td>...</td>\n",
              "      <td>...</td>\n",
              "      <td>...</td>\n",
              "      <td>...</td>\n",
              "      <td>...</td>\n",
              "      <td>...</td>\n",
              "      <td>...</td>\n",
              "      <td>...</td>\n",
              "      <td>...</td>\n",
              "      <td>...</td>\n",
              "      <td>...</td>\n",
              "    </tr>\n",
              "    <tr>\n",
              "      <th>627</th>\n",
              "      <td>627</td>\n",
              "      <td>venda</td>\n",
              "      <td>Casa em condomínio</td>\n",
              "      <td>Alphaville II</td>\n",
              "      <td>NaN</td>\n",
              "      <td>NaN</td>\n",
              "      <td>476.00</td>\n",
              "      <td>6</td>\n",
              "      <td>4</td>\n",
              "      <td>6</td>\n",
              "      <td>2800000</td>\n",
              "    </tr>\n",
              "    <tr>\n",
              "      <th>628</th>\n",
              "      <td>628</td>\n",
              "      <td>venda</td>\n",
              "      <td>Casa em condomínio</td>\n",
              "      <td>Alphaville II</td>\n",
              "      <td>Rua das Bromélias</td>\n",
              "      <td>NaN</td>\n",
              "      <td>496.76</td>\n",
              "      <td>6</td>\n",
              "      <td>4</td>\n",
              "      <td>7</td>\n",
              "      <td>3300000</td>\n",
              "    </tr>\n",
              "    <tr>\n",
              "      <th>629</th>\n",
              "      <td>629</td>\n",
              "      <td>venda</td>\n",
              "      <td>Kitchenette</td>\n",
              "      <td>Itapuã</td>\n",
              "      <td>NaN</td>\n",
              "      <td>NaN</td>\n",
              "      <td>33.27</td>\n",
              "      <td>1</td>\n",
              "      <td>1</td>\n",
              "      <td>1</td>\n",
              "      <td>130000</td>\n",
              "    </tr>\n",
              "    <tr>\n",
              "      <th>630</th>\n",
              "      <td>630</td>\n",
              "      <td>venda</td>\n",
              "      <td>Terreno em condomínio</td>\n",
              "      <td>Praia do Flamengo</td>\n",
              "      <td>NaN</td>\n",
              "      <td>NaN</td>\n",
              "      <td>4000.00</td>\n",
              "      <td>0</td>\n",
              "      <td>0</td>\n",
              "      <td>0</td>\n",
              "      <td>1680000</td>\n",
              "    </tr>\n",
              "    <tr>\n",
              "      <th>631</th>\n",
              "      <td>631</td>\n",
              "      <td>venda</td>\n",
              "      <td>Village</td>\n",
              "      <td>Praia do Flamengo</td>\n",
              "      <td>NaN</td>\n",
              "      <td>NaN</td>\n",
              "      <td>4000.00</td>\n",
              "      <td>0</td>\n",
              "      <td>0</td>\n",
              "      <td>0</td>\n",
              "      <td>1680000</td>\n",
              "    </tr>\n",
              "  </tbody>\n",
              "</table>\n",
              "<p>632 rows × 11 columns</p>\n",
              "</div>"
            ],
            "text/plain": [
              "     Unnamed: 0   modo                   tipo             bairro  \\\n",
              "0             0  venda                   Loja             Ondina   \n",
              "1             1  venda            Apartamento     Jardim Apipema   \n",
              "2             2  venda                   Sala             Centro   \n",
              "3             3  venda            Apartamento          Liberdade   \n",
              "4             4  venda                   Sala             Pituba   \n",
              "..          ...    ...                    ...                ...   \n",
              "627         627  venda     Casa em condomínio      Alphaville II   \n",
              "628         628  venda     Casa em condomínio      Alphaville II   \n",
              "629         629  venda            Kitchenette             Itapuã   \n",
              "630         630  venda  Terreno em condomínio  Praia do Flamengo   \n",
              "631         631  venda                Village  Praia do Flamengo   \n",
              "\n",
              "                            rua  numero  metros_quadrados  quartos  vagas  \\\n",
              "0     Avenida Adhemar de Barros     NaN             60.00        0      0   \n",
              "1                Rua Nita Costa     NaN            110.00        3      1   \n",
              "2             Travessa da Ajuda     2.0             31.80        0      0   \n",
              "3          Estrada da Liberdade   170.0             63.00        2      0   \n",
              "4         Rua Rio Grande do Sul   332.0             28.32        0      0   \n",
              "..                          ...     ...               ...      ...    ...   \n",
              "627                         NaN     NaN            476.00        6      4   \n",
              "628           Rua das Bromélias     NaN            496.76        6      4   \n",
              "629                         NaN     NaN             33.27        1      1   \n",
              "630                         NaN     NaN           4000.00        0      0   \n",
              "631                         NaN     NaN           4000.00        0      0   \n",
              "\n",
              "     banheiros    valor  \n",
              "0            0   420000  \n",
              "1            3   650000  \n",
              "2            0    98000  \n",
              "3            1   125000  \n",
              "4            0   140000  \n",
              "..         ...      ...  \n",
              "627          6  2800000  \n",
              "628          7  3300000  \n",
              "629          1   130000  \n",
              "630          0  1680000  \n",
              "631          0  1680000  \n",
              "\n",
              "[632 rows x 11 columns]"
            ]
          },
          "execution_count": 9,
          "metadata": {},
          "output_type": "execute_result"
        }
      ],
      "source": [
        "venda"
      ]
    },
    {
      "cell_type": "code",
      "execution_count": 10,
      "metadata": {
        "id": "q5VTmWoC07AU"
      },
      "outputs": [],
      "source": [
        "group_tipo = aluguel.groupby('tipo')['valor'].mean()"
      ]
    },
    {
      "cell_type": "code",
      "execution_count": 11,
      "metadata": {
        "colab": {
          "base_uri": "https://localhost:8080/"
        },
        "id": "ZsePpoT81GAa",
        "outputId": "da8269b3-8384-40db-d4d6-2d21ccfae228"
      },
      "outputs": [
        {
          "data": {
            "text/plain": [
              "tipo\n",
              "Apartamento            1511.333333\n",
              "Casa                   4350.909091\n",
              "Casa Comercial        10219.354839\n",
              "Casa em condomínio     3300.000000\n",
              "Cobertura              3687.500000\n",
              "Conjunto de salas     15581.250000\n",
              "Flat                   1950.000000\n",
              "Galpão                 6680.000000\n",
              "Hotel                  8500.000000\n",
              "Kitchenette            1404.000000\n",
              "Loja                   8137.611940\n",
              "Ponto comercial       12464.285714\n",
              "Prédio                50000.000000\n",
              "Sala                   1427.788136\n",
              "Salão                  7231.333333\n",
              "Sobre-loja             2229.333333\n",
              "Terreno               10000.000000\n",
              "Village                1548.000000\n",
              "Name: valor, dtype: float64"
            ]
          },
          "execution_count": 11,
          "metadata": {},
          "output_type": "execute_result"
        }
      ],
      "source": [
        "group_tipo"
      ]
    },
    {
      "cell_type": "code",
      "execution_count": 12,
      "metadata": {
        "colab": {
          "base_uri": "https://localhost:8080/"
        },
        "id": "Jx7ziW4cEyAx",
        "outputId": "89233f6a-72e5-420e-f9ee-660629b09cf8"
      },
      "outputs": [
        {
          "data": {
            "text/plain": [
              "tipo\n",
              "Apart-hotel              2.300000e+05\n",
              "Apartamento              5.447421e+05\n",
              "Casa                     1.700317e+06\n",
              "Casa Comercial           1.681667e+06\n",
              "Casa em condomínio       2.526190e+06\n",
              "Cobertura                9.135294e+05\n",
              "Conjunto de salas        7.158000e+05\n",
              "Dúplex                   6.700000e+05\n",
              "Flat                     4.400000e+05\n",
              "Galpão                   3.200000e+06\n",
              "Hotel                    1.070000e+07\n",
              "Kitchenette              1.300000e+05\n",
              "Loja                     1.096667e+06\n",
              "Motel                    3.100000e+06\n",
              "Ponto comercial          5.000000e+05\n",
              "Pousada                  1.913333e+06\n",
              "Prédio                   1.162333e+07\n",
              "Sala                     2.642407e+05\n",
              "Terreno                  2.864444e+06\n",
              "Terreno em condomínio    1.680000e+06\n",
              "Village                  9.700000e+05\n",
              "Name: valor, dtype: float64"
            ]
          },
          "execution_count": 12,
          "metadata": {},
          "output_type": "execute_result"
        }
      ],
      "source": [
        "group_tipo = venda.groupby('tipo')['valor'].mean()\n",
        "group_tipo"
      ]
    },
    {
      "cell_type": "markdown",
      "metadata": {
        "id": "-IkgJ4WaI2ZA"
      },
      "source": [
        "Salvando corrigido"
      ]
    },
    {
      "cell_type": "code",
      "execution_count": 13,
      "metadata": {
        "colab": {
          "base_uri": "https://localhost:8080/"
        },
        "id": "NEFljKhRbl00",
        "outputId": "ec8cf8e3-4060-46bf-a305-0dba4bf807c3"
      },
      "outputs": [
        {
          "data": {
            "text/plain": [
              "tipo\n",
              "Apartamento             5500\n",
              "Casa                   10000\n",
              "Casa Comercial         28000\n",
              "Casa em condomínio      3300\n",
              "Cobertura               3700\n",
              "Conjunto de salas      33000\n",
              "Flat                    1950\n",
              "Galpão                  9900\n",
              "Hotel                   8500\n",
              "Kitchenette             1404\n",
              "Loja                   65000\n",
              "Ponto comercial        25000\n",
              "Prédio                134400\n",
              "Sala                   33550\n",
              "Salão                  10320\n",
              "Sobre-loja              4000\n",
              "Terreno                10000\n",
              "Village                 1800\n",
              "Name: valor, dtype: int64"
            ]
          },
          "execution_count": 13,
          "metadata": {},
          "output_type": "execute_result"
        }
      ],
      "source": [
        "aluguel.groupby(['tipo']).valor.max()\n"
      ]
    },
    {
      "cell_type": "markdown",
      "metadata": {},
      "source": [
        "#### Qual tipo de imóvel tem a média mais cara"
      ]
    },
    {
      "cell_type": "code",
      "execution_count": 14,
      "metadata": {
        "colab": {
          "base_uri": "https://localhost:8080/",
          "height": 391
        },
        "id": "s1Xa9w3OIfip",
        "outputId": "4855ed9c-69ee-480d-e921-b9ea3fad3f1f"
      },
      "outputs": [
        {
          "data": {
            "text/plain": [
              "<AxesSubplot:xlabel='tipo'>"
            ]
          },
          "execution_count": 14,
          "metadata": {},
          "output_type": "execute_result"
        },
        {
          "data": {
            "image/png": "[encoded data removed]",
            "text/plain": [
              "<Figure size 432x288 with 1 Axes>"
            ]
          },
          "metadata": {
            "needs_background": "light"
          },
          "output_type": "display_data"
        }
      ],
      "source": [
        "aluguel.groupby(['tipo']).valor.mean().plot(kind='bar')"
      ]
    },
    {
      "cell_type": "markdown",
      "metadata": {},
      "source": [
        "#### Dentre os imóveis residenciais qual o tipo mais caro"
      ]
    },
    {
      "cell_type": "code",
      "execution_count": 15,
      "metadata": {
        "id": "NJ9T6bRAImN_"
      },
      "outputs": [],
      "source": [
        "aluguel_residencial = aluguel[aluguel['tipo'].isin(['Apartamento', 'Casa', 'Casa em Condomínio', 'Kitchenette', 'Village'])]"
      ]
    },
    {
      "cell_type": "code",
      "execution_count": 16,
      "metadata": {
        "colab": {
          "base_uri": "https://localhost:8080/",
          "height": 713
        },
        "id": "8_dX0aUVf2Ug",
        "outputId": "2f53209a-91e0-4a2a-959d-613ff036377d"
      },
      "outputs": [
        {
          "data": {
            "text/html": [
              "<div>\n",
              "<style scoped>\n",
              "    .dataframe tbody tr th:only-of-type {\n",
              "        vertical-align: middle;\n",
              "    }\n",
              "\n",
              "    .dataframe tbody tr th {\n",
              "        vertical-align: top;\n",
              "    }\n",
              "\n",
              "    .dataframe thead th {\n",
              "        text-align: right;\n",
              "    }\n",
              "</style>\n",
              "<table border=\"1\" class=\"dataframe\">\n",
              "  <thead>\n",
              "    <tr style=\"text-align: right;\">\n",
              "      <th></th>\n",
              "      <th>Unnamed: 0</th>\n",
              "      <th>modo</th>\n",
              "      <th>tipo</th>\n",
              "      <th>bairro</th>\n",
              "      <th>rua</th>\n",
              "      <th>numero</th>\n",
              "      <th>metros_quadrados</th>\n",
              "      <th>quartos</th>\n",
              "      <th>vagas</th>\n",
              "      <th>banheiros</th>\n",
              "      <th>valor</th>\n",
              "    </tr>\n",
              "  </thead>\n",
              "  <tbody>\n",
              "    <tr>\n",
              "      <th>11</th>\n",
              "      <td>11</td>\n",
              "      <td>aluguel</td>\n",
              "      <td>Apartamento</td>\n",
              "      <td>Dois de Julho</td>\n",
              "      <td>Largo Dois de Julho</td>\n",
              "      <td>1.0</td>\n",
              "      <td>40.00</td>\n",
              "      <td>1</td>\n",
              "      <td>0</td>\n",
              "      <td>1</td>\n",
              "      <td>1250</td>\n",
              "    </tr>\n",
              "    <tr>\n",
              "      <th>12</th>\n",
              "      <td>12</td>\n",
              "      <td>aluguel</td>\n",
              "      <td>Apartamento</td>\n",
              "      <td>Pituba</td>\n",
              "      <td>NaN</td>\n",
              "      <td>NaN</td>\n",
              "      <td>50.00</td>\n",
              "      <td>1</td>\n",
              "      <td>1</td>\n",
              "      <td>2</td>\n",
              "      <td>1250</td>\n",
              "    </tr>\n",
              "    <tr>\n",
              "      <th>13</th>\n",
              "      <td>13</td>\n",
              "      <td>aluguel</td>\n",
              "      <td>Apartamento</td>\n",
              "      <td>Roma</td>\n",
              "      <td>Rua Antônio Francisco Brandão</td>\n",
              "      <td>10.0</td>\n",
              "      <td>50.00</td>\n",
              "      <td>2</td>\n",
              "      <td>1</td>\n",
              "      <td>1</td>\n",
              "      <td>1250</td>\n",
              "    </tr>\n",
              "    <tr>\n",
              "      <th>14</th>\n",
              "      <td>14</td>\n",
              "      <td>aluguel</td>\n",
              "      <td>Casa</td>\n",
              "      <td>Liberdade</td>\n",
              "      <td>Rua Brumado</td>\n",
              "      <td>15.0</td>\n",
              "      <td>180.00</td>\n",
              "      <td>3</td>\n",
              "      <td>0</td>\n",
              "      <td>2</td>\n",
              "      <td>1250</td>\n",
              "    </tr>\n",
              "    <tr>\n",
              "      <th>15</th>\n",
              "      <td>15</td>\n",
              "      <td>aluguel</td>\n",
              "      <td>Apartamento</td>\n",
              "      <td>Amaralina</td>\n",
              "      <td>Rua Visconde de Itaborahy</td>\n",
              "      <td>NaN</td>\n",
              "      <td>45.03</td>\n",
              "      <td>1</td>\n",
              "      <td>1</td>\n",
              "      <td>1</td>\n",
              "      <td>1280</td>\n",
              "    </tr>\n",
              "    <tr>\n",
              "      <th>...</th>\n",
              "      <td>...</td>\n",
              "      <td>...</td>\n",
              "      <td>...</td>\n",
              "      <td>...</td>\n",
              "      <td>...</td>\n",
              "      <td>...</td>\n",
              "      <td>...</td>\n",
              "      <td>...</td>\n",
              "      <td>...</td>\n",
              "      <td>...</td>\n",
              "      <td>...</td>\n",
              "    </tr>\n",
              "    <tr>\n",
              "      <th>413</th>\n",
              "      <td>413</td>\n",
              "      <td>aluguel</td>\n",
              "      <td>Apartamento</td>\n",
              "      <td>Pituba</td>\n",
              "      <td>NaN</td>\n",
              "      <td>NaN</td>\n",
              "      <td>29.42</td>\n",
              "      <td>1</td>\n",
              "      <td>0</td>\n",
              "      <td>1</td>\n",
              "      <td>1080</td>\n",
              "    </tr>\n",
              "    <tr>\n",
              "      <th>421</th>\n",
              "      <td>421</td>\n",
              "      <td>aluguel</td>\n",
              "      <td>Apartamento</td>\n",
              "      <td>Vila Rui Barbosa</td>\n",
              "      <td>Rua José Bonifácio</td>\n",
              "      <td>NaN</td>\n",
              "      <td>40.00</td>\n",
              "      <td>2</td>\n",
              "      <td>0</td>\n",
              "      <td>1</td>\n",
              "      <td>650</td>\n",
              "    </tr>\n",
              "    <tr>\n",
              "      <th>425</th>\n",
              "      <td>425</td>\n",
              "      <td>aluguel</td>\n",
              "      <td>Apartamento</td>\n",
              "      <td>Ribeira</td>\n",
              "      <td>Beco Bucuitiba</td>\n",
              "      <td>23.0</td>\n",
              "      <td>40.00</td>\n",
              "      <td>1</td>\n",
              "      <td>0</td>\n",
              "      <td>0</td>\n",
              "      <td>700</td>\n",
              "    </tr>\n",
              "    <tr>\n",
              "      <th>429</th>\n",
              "      <td>429</td>\n",
              "      <td>aluguel</td>\n",
              "      <td>Apartamento</td>\n",
              "      <td>Ribeira</td>\n",
              "      <td>Beco Bucuitiba</td>\n",
              "      <td>22.0</td>\n",
              "      <td>40.00</td>\n",
              "      <td>1</td>\n",
              "      <td>0</td>\n",
              "      <td>0</td>\n",
              "      <td>700</td>\n",
              "    </tr>\n",
              "    <tr>\n",
              "      <th>431</th>\n",
              "      <td>431</td>\n",
              "      <td>aluguel</td>\n",
              "      <td>Apartamento</td>\n",
              "      <td>Pituba</td>\n",
              "      <td>NaN</td>\n",
              "      <td>NaN</td>\n",
              "      <td>50.00</td>\n",
              "      <td>1</td>\n",
              "      <td>1</td>\n",
              "      <td>2</td>\n",
              "      <td>1150</td>\n",
              "    </tr>\n",
              "  </tbody>\n",
              "</table>\n",
              "<p>164 rows × 11 columns</p>\n",
              "</div>"
            ],
            "text/plain": [
              "     Unnamed: 0     modo         tipo            bairro  \\\n",
              "11           11  aluguel  Apartamento     Dois de Julho   \n",
              "12           12  aluguel  Apartamento            Pituba   \n",
              "13           13  aluguel  Apartamento              Roma   \n",
              "14           14  aluguel         Casa         Liberdade   \n",
              "15           15  aluguel  Apartamento         Amaralina   \n",
              "..          ...      ...          ...               ...   \n",
              "413         413  aluguel  Apartamento            Pituba   \n",
              "421         421  aluguel  Apartamento  Vila Rui Barbosa   \n",
              "425         425  aluguel  Apartamento           Ribeira   \n",
              "429         429  aluguel  Apartamento           Ribeira   \n",
              "431         431  aluguel  Apartamento            Pituba   \n",
              "\n",
              "                                rua  numero  metros_quadrados  quartos  vagas  \\\n",
              "11              Largo Dois de Julho     1.0             40.00        1      0   \n",
              "12                              NaN     NaN             50.00        1      1   \n",
              "13    Rua Antônio Francisco Brandão    10.0             50.00        2      1   \n",
              "14                      Rua Brumado    15.0            180.00        3      0   \n",
              "15        Rua Visconde de Itaborahy     NaN             45.03        1      1   \n",
              "..                              ...     ...               ...      ...    ...   \n",
              "413                             NaN     NaN             29.42        1      0   \n",
              "421              Rua José Bonifácio     NaN             40.00        2      0   \n",
              "425                  Beco Bucuitiba    23.0             40.00        1      0   \n",
              "429                  Beco Bucuitiba    22.0             40.00        1      0   \n",
              "431                             NaN     NaN             50.00        1      1   \n",
              "\n",
              "     banheiros  valor  \n",
              "11           1   1250  \n",
              "12           2   1250  \n",
              "13           1   1250  \n",
              "14           2   1250  \n",
              "15           1   1280  \n",
              "..         ...    ...  \n",
              "413          1   1080  \n",
              "421          1    650  \n",
              "425          0    700  \n",
              "429          0    700  \n",
              "431          2   1150  \n",
              "\n",
              "[164 rows x 11 columns]"
            ]
          },
          "execution_count": 16,
          "metadata": {},
          "output_type": "execute_result"
        }
      ],
      "source": [
        "aluguel_residencial"
      ]
    },
    {
      "cell_type": "code",
      "execution_count": 17,
      "metadata": {
        "colab": {
          "base_uri": "https://localhost:8080/",
          "height": 353
        },
        "id": "iXBLPUdEf4ZU",
        "outputId": "3ea996c8-eb02-43fd-daaf-1b36562b81d5"
      },
      "outputs": [
        {
          "data": {
            "text/plain": [
              "<AxesSubplot:xlabel='tipo'>"
            ]
          },
          "execution_count": 17,
          "metadata": {},
          "output_type": "execute_result"
        },
        {
          "data": {
            "image/png": "[encoded data removed]",
            "text/plain": [
              "<Figure size 432x288 with 1 Axes>"
            ]
          },
          "metadata": {
            "needs_background": "light"
          },
          "output_type": "display_data"
        }
      ],
      "source": [
        "aluguel_residencial.groupby(['tipo']).valor.median().plot(kind='bar')\n"
      ]
    },
    {
      "cell_type": "markdown",
      "metadata": {
        "id": "gbJVgAWIILrQ"
      },
      "source": [
        "Quais são os valores mais altos de aluguel de apartamentos na cidade pelos bairros"
      ]
    },
    {
      "cell_type": "markdown",
      "metadata": {},
      "source": [
        "#### Analisando somente os preços de apartamentos"
      ]
    },
    {
      "cell_type": "code",
      "execution_count": 18,
      "metadata": {
        "colab": {
          "base_uri": "https://localhost:8080/",
          "height": 748
        },
        "id": "iMBe6hTIgcBk",
        "outputId": "f5e62f39-ba4c-473f-85ab-e7a4c562b84b"
      },
      "outputs": [
        {
          "data": {
            "text/html": [
              "<div>\n",
              "<style scoped>\n",
              "    .dataframe tbody tr th:only-of-type {\n",
              "        vertical-align: middle;\n",
              "    }\n",
              "\n",
              "    .dataframe tbody tr th {\n",
              "        vertical-align: top;\n",
              "    }\n",
              "\n",
              "    .dataframe thead th {\n",
              "        text-align: right;\n",
              "    }\n",
              "</style>\n",
              "<table border=\"1\" class=\"dataframe\">\n",
              "  <thead>\n",
              "    <tr style=\"text-align: right;\">\n",
              "      <th></th>\n",
              "      <th>Unnamed: 0</th>\n",
              "      <th>modo</th>\n",
              "      <th>tipo</th>\n",
              "      <th>bairro</th>\n",
              "      <th>rua</th>\n",
              "      <th>numero</th>\n",
              "      <th>metros_quadrados</th>\n",
              "      <th>quartos</th>\n",
              "      <th>vagas</th>\n",
              "      <th>banheiros</th>\n",
              "      <th>valor</th>\n",
              "    </tr>\n",
              "  </thead>\n",
              "  <tbody>\n",
              "    <tr>\n",
              "      <th>11</th>\n",
              "      <td>11</td>\n",
              "      <td>aluguel</td>\n",
              "      <td>Apartamento</td>\n",
              "      <td>Dois de Julho</td>\n",
              "      <td>Largo Dois de Julho</td>\n",
              "      <td>1.0</td>\n",
              "      <td>40.00</td>\n",
              "      <td>1</td>\n",
              "      <td>0</td>\n",
              "      <td>1</td>\n",
              "      <td>1250</td>\n",
              "    </tr>\n",
              "    <tr>\n",
              "      <th>12</th>\n",
              "      <td>12</td>\n",
              "      <td>aluguel</td>\n",
              "      <td>Apartamento</td>\n",
              "      <td>Pituba</td>\n",
              "      <td>NaN</td>\n",
              "      <td>NaN</td>\n",
              "      <td>50.00</td>\n",
              "      <td>1</td>\n",
              "      <td>1</td>\n",
              "      <td>2</td>\n",
              "      <td>1250</td>\n",
              "    </tr>\n",
              "    <tr>\n",
              "      <th>13</th>\n",
              "      <td>13</td>\n",
              "      <td>aluguel</td>\n",
              "      <td>Apartamento</td>\n",
              "      <td>Roma</td>\n",
              "      <td>Rua Antônio Francisco Brandão</td>\n",
              "      <td>10.0</td>\n",
              "      <td>50.00</td>\n",
              "      <td>2</td>\n",
              "      <td>1</td>\n",
              "      <td>1</td>\n",
              "      <td>1250</td>\n",
              "    </tr>\n",
              "    <tr>\n",
              "      <th>15</th>\n",
              "      <td>15</td>\n",
              "      <td>aluguel</td>\n",
              "      <td>Apartamento</td>\n",
              "      <td>Amaralina</td>\n",
              "      <td>Rua Visconde de Itaborahy</td>\n",
              "      <td>NaN</td>\n",
              "      <td>45.03</td>\n",
              "      <td>1</td>\n",
              "      <td>1</td>\n",
              "      <td>1</td>\n",
              "      <td>1280</td>\n",
              "    </tr>\n",
              "    <tr>\n",
              "      <th>16</th>\n",
              "      <td>16</td>\n",
              "      <td>aluguel</td>\n",
              "      <td>Apartamento</td>\n",
              "      <td>Campo Grande</td>\n",
              "      <td>Rua Banco dos Ingleses</td>\n",
              "      <td>NaN</td>\n",
              "      <td>39.14</td>\n",
              "      <td>1</td>\n",
              "      <td>1</td>\n",
              "      <td>1</td>\n",
              "      <td>1280</td>\n",
              "    </tr>\n",
              "    <tr>\n",
              "      <th>...</th>\n",
              "      <td>...</td>\n",
              "      <td>...</td>\n",
              "      <td>...</td>\n",
              "      <td>...</td>\n",
              "      <td>...</td>\n",
              "      <td>...</td>\n",
              "      <td>...</td>\n",
              "      <td>...</td>\n",
              "      <td>...</td>\n",
              "      <td>...</td>\n",
              "      <td>...</td>\n",
              "    </tr>\n",
              "    <tr>\n",
              "      <th>413</th>\n",
              "      <td>413</td>\n",
              "      <td>aluguel</td>\n",
              "      <td>Apartamento</td>\n",
              "      <td>Pituba</td>\n",
              "      <td>NaN</td>\n",
              "      <td>NaN</td>\n",
              "      <td>29.42</td>\n",
              "      <td>1</td>\n",
              "      <td>0</td>\n",
              "      <td>1</td>\n",
              "      <td>1080</td>\n",
              "    </tr>\n",
              "    <tr>\n",
              "      <th>421</th>\n",
              "      <td>421</td>\n",
              "      <td>aluguel</td>\n",
              "      <td>Apartamento</td>\n",
              "      <td>Vila Rui Barbosa</td>\n",
              "      <td>Rua José Bonifácio</td>\n",
              "      <td>NaN</td>\n",
              "      <td>40.00</td>\n",
              "      <td>2</td>\n",
              "      <td>0</td>\n",
              "      <td>1</td>\n",
              "      <td>650</td>\n",
              "    </tr>\n",
              "    <tr>\n",
              "      <th>425</th>\n",
              "      <td>425</td>\n",
              "      <td>aluguel</td>\n",
              "      <td>Apartamento</td>\n",
              "      <td>Ribeira</td>\n",
              "      <td>Beco Bucuitiba</td>\n",
              "      <td>23.0</td>\n",
              "      <td>40.00</td>\n",
              "      <td>1</td>\n",
              "      <td>0</td>\n",
              "      <td>0</td>\n",
              "      <td>700</td>\n",
              "    </tr>\n",
              "    <tr>\n",
              "      <th>429</th>\n",
              "      <td>429</td>\n",
              "      <td>aluguel</td>\n",
              "      <td>Apartamento</td>\n",
              "      <td>Ribeira</td>\n",
              "      <td>Beco Bucuitiba</td>\n",
              "      <td>22.0</td>\n",
              "      <td>40.00</td>\n",
              "      <td>1</td>\n",
              "      <td>0</td>\n",
              "      <td>0</td>\n",
              "      <td>700</td>\n",
              "    </tr>\n",
              "    <tr>\n",
              "      <th>431</th>\n",
              "      <td>431</td>\n",
              "      <td>aluguel</td>\n",
              "      <td>Apartamento</td>\n",
              "      <td>Pituba</td>\n",
              "      <td>NaN</td>\n",
              "      <td>NaN</td>\n",
              "      <td>50.00</td>\n",
              "      <td>1</td>\n",
              "      <td>1</td>\n",
              "      <td>2</td>\n",
              "      <td>1150</td>\n",
              "    </tr>\n",
              "  </tbody>\n",
              "</table>\n",
              "<p>150 rows × 11 columns</p>\n",
              "</div>"
            ],
            "text/plain": [
              "     Unnamed: 0     modo         tipo            bairro  \\\n",
              "11           11  aluguel  Apartamento     Dois de Julho   \n",
              "12           12  aluguel  Apartamento            Pituba   \n",
              "13           13  aluguel  Apartamento              Roma   \n",
              "15           15  aluguel  Apartamento         Amaralina   \n",
              "16           16  aluguel  Apartamento      Campo Grande   \n",
              "..          ...      ...          ...               ...   \n",
              "413         413  aluguel  Apartamento            Pituba   \n",
              "421         421  aluguel  Apartamento  Vila Rui Barbosa   \n",
              "425         425  aluguel  Apartamento           Ribeira   \n",
              "429         429  aluguel  Apartamento           Ribeira   \n",
              "431         431  aluguel  Apartamento            Pituba   \n",
              "\n",
              "                                rua  numero  metros_quadrados  quartos  vagas  \\\n",
              "11              Largo Dois de Julho     1.0             40.00        1      0   \n",
              "12                              NaN     NaN             50.00        1      1   \n",
              "13    Rua Antônio Francisco Brandão    10.0             50.00        2      1   \n",
              "15        Rua Visconde de Itaborahy     NaN             45.03        1      1   \n",
              "16           Rua Banco dos Ingleses     NaN             39.14        1      1   \n",
              "..                              ...     ...               ...      ...    ...   \n",
              "413                             NaN     NaN             29.42        1      0   \n",
              "421              Rua José Bonifácio     NaN             40.00        2      0   \n",
              "425                  Beco Bucuitiba    23.0             40.00        1      0   \n",
              "429                  Beco Bucuitiba    22.0             40.00        1      0   \n",
              "431                             NaN     NaN             50.00        1      1   \n",
              "\n",
              "     banheiros  valor  \n",
              "11           1   1250  \n",
              "12           2   1250  \n",
              "13           1   1250  \n",
              "15           1   1280  \n",
              "16           1   1280  \n",
              "..         ...    ...  \n",
              "413          1   1080  \n",
              "421          1    650  \n",
              "425          0    700  \n",
              "429          0    700  \n",
              "431          2   1150  \n",
              "\n",
              "[150 rows x 11 columns]"
            ]
          },
          "execution_count": 18,
          "metadata": {},
          "output_type": "execute_result"
        }
      ],
      "source": [
        "aluguel_apartamento = aluguel[aluguel['tipo'].isin(['Apartamento'])]\n",
        "aluguel_apartamento"
      ]
    },
    {
      "cell_type": "code",
      "execution_count": 19,
      "metadata": {
        "id": "tOyxayJWh8Du"
      },
      "outputs": [],
      "source": [
        "valor_bairro = aluguel_apartamento.groupby(['bairro']).valor.median().sort_values(ascending=False)"
      ]
    },
    {
      "cell_type": "code",
      "execution_count": 20,
      "metadata": {
        "colab": {
          "base_uri": "https://localhost:8080/",
          "height": 405
        },
        "id": "MZ1bX1leS2hc",
        "outputId": "94af2871-1cfc-47b5-9523-f2ced3f5d26f"
      },
      "outputs": [
        {
          "data": {
            "text/plain": [
              "bairro\n",
              "Vitória           3602.0\n",
              "Itaigara          3500.0\n",
              "Chame-chame       3235.0\n",
              "Graça             2721.0\n",
              "Rio Vermelho      2300.0\n",
              "                   ...  \n",
              "Novo Marotinho     700.0\n",
              "Boca do Rio        650.0\n",
              "Escada             600.0\n",
              "Massaranduba       600.0\n",
              "Uruguai            550.0\n",
              "Name: valor, Length: 62, dtype: float64"
            ]
          },
          "execution_count": 20,
          "metadata": {},
          "output_type": "execute_result"
        },
        {
          "data": {
            "image/png": "[encoded data removed]",
            "text/plain": [
              "<Figure size 864x432 with 1 Axes>"
            ]
          },
          "metadata": {
            "needs_background": "light"
          },
          "output_type": "display_data"
        }
      ],
      "source": [
        "valor_bairro.plot(figsize=(12,6))\n",
        "valor_bairro"
      ]
    },
    {
      "cell_type": "code",
      "execution_count": 21,
      "metadata": {
        "id": "EeHfJoSRTdp_"
      },
      "outputs": [],
      "source": [
        "max_valor_bairro = aluguel_apartamento.groupby(['bairro']).valor.max().sort_values(ascending=False)"
      ]
    },
    {
      "cell_type": "code",
      "execution_count": 22,
      "metadata": {
        "colab": {
          "base_uri": "https://localhost:8080/",
          "height": 405
        },
        "id": "A9fJpcjzUFg1",
        "outputId": "26c3bbfe-c9b6-427a-b25a-8c5bfb9542e0"
      },
      "outputs": [
        {
          "data": {
            "text/plain": [
              "bairro\n",
              "Dois de Julho                 5500\n",
              "Chame-chame                   5170\n",
              "Vitória                       4400\n",
              "Caminho das Árvores           4300\n",
              "Itaigara                      3500\n",
              "                              ... \n",
              "Cidade Nova                    750\n",
              "Engenho Velho da Federação     702\n",
              "Novo Marotinho                 700\n",
              "Boca do Rio                    650\n",
              "Escada                         600\n",
              "Name: valor, Length: 62, dtype: int64"
            ]
          },
          "execution_count": 22,
          "metadata": {},
          "output_type": "execute_result"
        },
        {
          "data": {
            "image/png": "[encoded data removed]",
            "text/plain": [
              "<Figure size 864x432 with 1 Axes>"
            ]
          },
          "metadata": {
            "needs_background": "light"
          },
          "output_type": "display_data"
        }
      ],
      "source": [
        "max_valor_bairro.plot(figsize=(12,6))\n",
        "max_valor_bairro"
      ]
    },
    {
      "cell_type": "code",
      "execution_count": 23,
      "metadata": {
        "id": "_knO3VemUWbN"
      },
      "outputs": [],
      "source": [
        "min_valor_bairro = aluguel_apartamento.groupby(['bairro']).valor.min().sort_values(ascending=False)\n"
      ]
    },
    {
      "cell_type": "code",
      "execution_count": 24,
      "metadata": {
        "colab": {
          "base_uri": "https://localhost:8080/",
          "height": 405
        },
        "id": "dSbUebJEUe42",
        "outputId": "f3e60f82-bd41-4108-d37c-c23e9b8da12c"
      },
      "outputs": [
        {
          "data": {
            "text/plain": [
              "bairro\n",
              "Itaigara             3500\n",
              "Vitória              2804\n",
              "Patamares            2125\n",
              "Canela               1944\n",
              "Parque Bela Vista    1728\n",
              "                     ... \n",
              "São Marcos            600\n",
              "Trobogy               600\n",
              "Escada                600\n",
              "Uruguai               550\n",
              "Massaranduba          500\n",
              "Name: valor, Length: 62, dtype: int64"
            ]
          },
          "execution_count": 24,
          "metadata": {},
          "output_type": "execute_result"
        },
        {
          "data": {
            "image/png": "[encoded data removed]",
            "text/plain": [
              "<Figure size 864x432 with 1 Axes>"
            ]
          },
          "metadata": {
            "needs_background": "light"
          },
          "output_type": "display_data"
        }
      ],
      "source": [
        "min_valor_bairro.plot(figsize=(12,6))\n",
        "min_valor_bairro"
      ]
    },
    {
      "cell_type": "code",
      "execution_count": 60,
      "metadata": {},
      "outputs": [
        {
          "data": {
            "text/html": [
              "<div>\n",
              "<style scoped>\n",
              "    .dataframe tbody tr th:only-of-type {\n",
              "        vertical-align: middle;\n",
              "    }\n",
              "\n",
              "    .dataframe tbody tr th {\n",
              "        vertical-align: top;\n",
              "    }\n",
              "\n",
              "    .dataframe thead th {\n",
              "        text-align: right;\n",
              "    }\n",
              "</style>\n",
              "<table border=\"1\" class=\"dataframe\">\n",
              "  <thead>\n",
              "    <tr style=\"text-align: right;\">\n",
              "      <th></th>\n",
              "      <th>max</th>\n",
              "      <th>min</th>\n",
              "      <th>mean</th>\n",
              "      <th>median</th>\n",
              "    </tr>\n",
              "    <tr>\n",
              "      <th>bairro</th>\n",
              "      <th></th>\n",
              "      <th></th>\n",
              "      <th></th>\n",
              "      <th></th>\n",
              "    </tr>\n",
              "  </thead>\n",
              "  <tbody>\n",
              "    <tr>\n",
              "      <th>Barra</th>\n",
              "      <td>2975</td>\n",
              "      <td>1296</td>\n",
              "      <td>1983.800000</td>\n",
              "      <td>1700.0</td>\n",
              "    </tr>\n",
              "    <tr>\n",
              "      <th>Graça</th>\n",
              "      <td>3150</td>\n",
              "      <td>880</td>\n",
              "      <td>2562.600000</td>\n",
              "      <td>2721.0</td>\n",
              "    </tr>\n",
              "    <tr>\n",
              "      <th>Ondina</th>\n",
              "      <td>2940</td>\n",
              "      <td>1296</td>\n",
              "      <td>1914.000000</td>\n",
              "      <td>1512.0</td>\n",
              "    </tr>\n",
              "    <tr>\n",
              "      <th>Pituba</th>\n",
              "      <td>2700</td>\n",
              "      <td>1080</td>\n",
              "      <td>1664.000000</td>\n",
              "      <td>1400.0</td>\n",
              "    </tr>\n",
              "    <tr>\n",
              "      <th>Ribeira</th>\n",
              "      <td>1400</td>\n",
              "      <td>650</td>\n",
              "      <td>782.222222</td>\n",
              "      <td>700.0</td>\n",
              "    </tr>\n",
              "    <tr>\n",
              "      <th>Rio Vermelho</th>\n",
              "      <td>2500</td>\n",
              "      <td>1000</td>\n",
              "      <td>1842.857143</td>\n",
              "      <td>2300.0</td>\n",
              "    </tr>\n",
              "    <tr>\n",
              "      <th>Uruguai</th>\n",
              "      <td>950</td>\n",
              "      <td>550</td>\n",
              "      <td>670.000000</td>\n",
              "      <td>550.0</td>\n",
              "    </tr>\n",
              "  </tbody>\n",
              "</table>\n",
              "</div>"
            ],
            "text/plain": [
              "               max   min         mean  median\n",
              "bairro                                       \n",
              "Barra         2975  1296  1983.800000  1700.0\n",
              "Graça         3150   880  2562.600000  2721.0\n",
              "Ondina        2940  1296  1914.000000  1512.0\n",
              "Pituba        2700  1080  1664.000000  1400.0\n",
              "Ribeira       1400   650   782.222222   700.0\n",
              "Rio Vermelho  2500  1000  1842.857143  2300.0\n",
              "Uruguai        950   550   670.000000   550.0"
            ]
          },
          "execution_count": 60,
          "metadata": {},
          "output_type": "execute_result"
        },
        {
          "data": {
            "image/png": "[encoded data removed]",
            "text/plain": [
              "<Figure size 864x432 with 1 Axes>"
            ]
          },
          "metadata": {
            "needs_background": "light"
          },
          "output_type": "display_data"
        }
      ],
      "source": [
        "valor_bairro = aluguel_apartamento.groupby(['bairro']).valor.agg(['max','min','mean','median'])\n",
        "valor_bairro.plot(figsize=(12,6))\n",
        "valor_bairro\n"
      ]
    },
    {
      "cell_type": "markdown",
      "metadata": {
        "id": "0cpA1SSha0i4"
      },
      "source": [
        "É possível ver a característica de cada bairo pela variação dos preços no gráfico"
      ]
    },
    {
      "cell_type": "code",
      "execution_count": 25,
      "metadata": {
        "colab": {
          "base_uri": "https://localhost:8080/",
          "height": 369
        },
        "id": "4jpT12n4Uhu7",
        "outputId": "d7002b10-dfb0-4990-b6c6-5732d07315a1"
      },
      "outputs": [
        {
          "name": "stderr",
          "output_type": "stream",
          "text": [
            "C:\\Users\\liz.brito\\AppData\\Local\\Programs\\Python\\Python310\\lib\\site-packages\\seaborn\\distributions.py:2619: FutureWarning: `distplot` is a deprecated function and will be removed in a future version. Please adapt your code to use either `displot` (a figure-level function with similar flexibility) or `kdeplot` (an axes-level function for kernel density plots).\n",
            "  warnings.warn(msg, FutureWarning)\n",
            "C:\\Users\\liz.brito\\AppData\\Local\\Programs\\Python\\Python310\\lib\\site-packages\\seaborn\\distributions.py:2103: FutureWarning: The `axis` variable is no longer used and will be removed. Instead, assign variables directly to `x` or `y`.\n",
            "  warnings.warn(msg, FutureWarning)\n"
          ]
        },
        {
          "data": {
            "image/png": "[encoded data removed]",
            "text/plain": [
              "<Figure size 432x288 with 1 Axes>"
            ]
          },
          "metadata": {
            "needs_background": "light"
          },
          "output_type": "display_data"
        }
      ],
      "source": [
        "bairro = aluguel_apartamento.query(\"bairro == 'Acupe de Brotas'\").valor.sort_values(ascending=True)\n",
        "ax = sns.distplot(bairro, rug=True, hist=False)"
      ]
    },
    {
      "cell_type": "markdown",
      "metadata": {
        "id": "mNU-sNRMdPDI"
      },
      "source": [
        "##### Percebi aqui que a base de dados não é tão rica, tem bairros que só tem um imóvel para alugar."
      ]
    },
    {
      "cell_type": "code",
      "execution_count": 26,
      "metadata": {
        "id": "HtzERpCudZSP"
      },
      "outputs": [],
      "source": [
        "por_bairro = aluguel_apartamento.groupby('bairro').bairro.count()\n",
        "por_bairro = por_bairro.to_frame()\n"
      ]
    },
    {
      "cell_type": "code",
      "execution_count": 27,
      "metadata": {
        "colab": {
          "base_uri": "https://localhost:8080/",
          "height": 300
        },
        "id": "P6ywT4GNfz06",
        "outputId": "dcb5b7de-b4f4-433a-ea98-146907896b1c"
      },
      "outputs": [
        {
          "data": {
            "text/plain": [
              "Index(['Barra', 'Graça', 'Ondina', 'Pituba', 'Ribeira', 'Rio Vermelho',\n",
              "       'Uruguai'],\n",
              "      dtype='object', name='bairro')"
            ]
          },
          "execution_count": 27,
          "metadata": {},
          "output_type": "execute_result"
        }
      ],
      "source": [
        "por_bairro = por_bairro.query('bairro >= 5')\n",
        "por_bairro.index"
      ]
    },
    {
      "cell_type": "code",
      "execution_count": 28,
      "metadata": {},
      "outputs": [
        {
          "data": {
            "text/plain": [
              "['Barra', 'Graça', 'Ondina', 'Pituba', 'Ribeira', 'Rio Vermelho', 'Uruguai']"
            ]
          },
          "execution_count": 28,
          "metadata": {},
          "output_type": "execute_result"
        }
      ],
      "source": [
        "por_bairro = ['Barra', 'Graça', 'Ondina', 'Pituba', 'Ribeira', 'Rio Vermelho',\n",
        "       'Uruguai']\n",
        "por_bairro"
      ]
    },
    {
      "cell_type": "code",
      "execution_count": 29,
      "metadata": {},
      "outputs": [],
      "source": [
        "aluguel_apartamento = aluguel_apartamento[aluguel_apartamento.bairro.isin(por_bairro)]"
      ]
    },
    {
      "cell_type": "code",
      "execution_count": null,
      "metadata": {},
      "outputs": [],
      "source": [
        "aluguel_apartamento"
      ]
    },
    {
      "cell_type": "markdown",
      "metadata": {
        "id": "ykoalLdga_dn"
      },
      "source": [
        "#### Fazer um boxplot dos preços dos bairros, talvez selecionar os bairros."
      ]
    },
    {
      "cell_type": "code",
      "execution_count": null,
      "metadata": {
        "id": "wsjmLEi8WTmn"
      },
      "outputs": [],
      "source": [
        "aluguel_apartamento.valor.sort_values(ascending=True)\n",
        "aluguel_apartamento\n"
      ]
    },
    {
      "cell_type": "code",
      "execution_count": 32,
      "metadata": {
        "colab": {
          "base_uri": "https://localhost:8080/",
          "height": 329
        },
        "id": "fdY8PPwFWxDU",
        "outputId": "8c282dd6-cde6-4eba-d978-96e228546321"
      },
      "outputs": [
        {
          "data": {
            "image/png": "[encoded data removed]",
            "text/plain": [
              "<Figure size 432x288 with 1 Axes>"
            ]
          },
          "metadata": {
            "needs_background": "light"
          },
          "output_type": "display_data"
        }
      ],
      "source": [
        "ax = sns.boxplot(x=\"valor\", y=\"bairro\", data=aluguel_apartamento)"
      ]
    },
    {
      "cell_type": "markdown",
      "metadata": {
        "id": "YSy1VduUbZhu"
      },
      "source": [
        "No boxplot incluir as informações com 1, 2, 3, 4 quartos e ver o quaanto que o preço varia com a quantidade de quartos e/ou banheiro"
      ]
    },
    {
      "cell_type": "code",
      "execution_count": 35,
      "metadata": {},
      "outputs": [
        {
          "data": {
            "image/png": "[encoded data removed]",
            "text/plain": [
              "<Figure size 432x288 with 1 Axes>"
            ]
          },
          "metadata": {
            "needs_background": "light"
          },
          "output_type": "display_data"
        }
      ],
      "source": [
        "ax = sns.boxplot(x=\"valor\", y=\"bairro\", hue=\"quartos\", data=aluguel_apartamento)"
      ]
    },
    {
      "cell_type": "code",
      "execution_count": 61,
      "metadata": {},
      "outputs": [
        {
          "data": {
            "text/plain": [
              "[9.0, 50.0, 100.0, 150.0, 200.0, 3200.0]"
            ]
          },
          "execution_count": 61,
          "metadata": {},
          "output_type": "execute_result"
        }
      ],
      "source": [
        "classes = [\n",
        "    aluguel.metros_quadrados.min(),\n",
        "    25.0 * 2,\n",
        "    25.0 * 4,\n",
        "    25.0 * 6,\n",
        "    25.0 * 8,\n",
        "    aluguel.metros_quadrados.max(),\n",
        "]\n",
        "\n",
        "labels = ['Minúsculo', 'Pequeno', 'Médio', 'Normal', 'Grande']\n",
        "classes"
      ]
    },
    {
      "cell_type": "code",
      "execution_count": 63,
      "metadata": {},
      "outputs": [
        {
          "name": "stderr",
          "output_type": "stream",
          "text": [
            "C:\\Users\\liz.brito\\AppData\\Local\\Temp\\ipykernel_11268\\279451213.py:6: SettingWithCopyWarning: \n",
            "A value is trying to be set on a copy of a slice from a DataFrame.\n",
            "Try using .loc[row_indexer,col_indexer] = value instead\n",
            "\n",
            "See the caveats in the documentation: https://pandas.pydata.org/pandas-docs/stable/user_guide/indexing.html#returning-a-view-versus-a-copy\n",
            "  aluguel_apartamento['Tamanho'] = tamanho\n"
          ]
        }
      ],
      "source": [
        "tamanho = pd.cut(x = aluguel_apartamento.metros_quadrados,\n",
        "           bins= classes,\n",
        "           labels = labels,\n",
        "           include_lowest = True)\n",
        "\n",
        "aluguel_apartamento['Tamanho'] = tamanho"
      ]
    },
    {
      "cell_type": "code",
      "execution_count": 66,
      "metadata": {},
      "outputs": [
        {
          "data": {
            "image/png": "[encoded data removed]",
            "text/plain": [
              "<Figure size 1008x576 with 1 Axes>"
            ]
          },
          "metadata": {
            "needs_background": "light"
          },
          "output_type": "display_data"
        }
      ],
      "source": [
        "ax = sns.boxplot(x=\"valor\", y=\"bairro\", hue=\"Tamanho\", data=aluguel_apartamento)\n",
        "ax.figure.set_size_inches(14, 8)"
      ]
    },
    {
      "cell_type": "code",
      "execution_count": 37,
      "metadata": {},
      "outputs": [
        {
          "data": {
            "image/png": "[encoded data removed]",
            "text/plain": [
              "<Figure size 432x288 with 1 Axes>"
            ]
          },
          "metadata": {
            "needs_background": "light"
          },
          "output_type": "display_data"
        }
      ],
      "source": [
        "# meh\n",
        "ax = sns.boxplot(x=\"valor\", y=\"bairro\", hue=\"banheiros\", data=aluguel_apartamento)\n"
      ]
    },
    {
      "cell_type": "markdown",
      "metadata": {
        "id": "mBDMT3YEbx_h"
      },
      "source": [
        "Filtrar os bairros caros com 1 quarto e os bairros baratos com 3 ou 4 quartos e fazer o comparativo de preço. Nem vai adiantar analisar isso, pq é algo que já é visível no boxplot"
      ]
    },
    {
      "cell_type": "markdown",
      "metadata": {},
      "source": []
    }
  ],
  "metadata": {
    "colab": {
      "name": "netimoveis.ipynb",
      "provenance": []
    },
    "kernelspec": {
      "display_name": "Python 3",
      "name": "python3"
    },
    "language_info": {
      "codemirror_mode": {
        "name": "ipython",
        "version": 3
      },
      "file_extension": ".py",
      "mimetype": "text/x-python",
      "name": "python",
      "nbconvert_exporter": "python",
      "pygments_lexer": "ipython3",
      "version": "3.10.2"
    }
  },
  "nbformat": 4,
  "nbformat_minor": 0
}
